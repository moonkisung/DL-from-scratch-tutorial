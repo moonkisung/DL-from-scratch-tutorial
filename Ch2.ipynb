{
  "nbformat": 4,
  "nbformat_minor": 0,
  "metadata": {
    "colab": {
      "name": "Ch2.ipynb",
      "provenance": [],
      "authorship_tag": "ABX9TyOTWgQOsW9Lj2Med4L/0ogz",
      "include_colab_link": true
    },
    "kernelspec": {
      "name": "python3",
      "display_name": "Python 3"
    },
    "language_info": {
      "name": "python"
    }
  },
  "cells": [
    {
      "cell_type": "markdown",
      "metadata": {
        "id": "view-in-github",
        "colab_type": "text"
      },
      "source": [
        "<a href=\"https://colab.research.google.com/github/moonkisung/DL-from-scratch-tutorial/blob/main/Ch2.ipynb\" target=\"_parent\"><img src=\"https://colab.research.google.com/assets/colab-badge.svg\" alt=\"Open In Colab\"/></a>"
      ]
    },
    {
      "cell_type": "markdown",
      "metadata": {
        "id": "lO7jZxmd0EWE"
      },
      "source": [
        "# 2.3 퍼셉트론 구현하기"
      ]
    },
    {
      "cell_type": "markdown",
      "metadata": {
        "id": "iJOfD5y_0JI2"
      },
      "source": [
        "## 2.3.1 간단한 구현부터"
      ]
    },
    {
      "cell_type": "code",
      "metadata": {
        "id": "Lj7mNzFOzvnK"
      },
      "source": [
        "def AND(x1, x2):\n",
        "    w1, w2, theta = 0.5, 0.5, 0.7\n",
        "    tmp = x1*w1 + x2*w2\n",
        "    if tmp <= theta:\n",
        "        return 0\n",
        "    elif tmp > theta:\n",
        "        return 1"
      ],
      "execution_count": 1,
      "outputs": []
    },
    {
      "cell_type": "code",
      "metadata": {
        "colab": {
          "base_uri": "https://localhost:8080/"
        },
        "id": "HSks9HKt0Fgh",
        "outputId": "5394c537-df37-4141-e398-ad3abe312b3b"
      },
      "source": [
        "print(AND(0, 0))\n",
        "print(AND(1, 0))\n",
        "print(AND(0, 1))\n",
        "print(AND(1, 1))"
      ],
      "execution_count": 3,
      "outputs": [
        {
          "output_type": "stream",
          "text": [
            "0\n",
            "0\n",
            "0\n",
            "1\n"
          ],
          "name": "stdout"
        }
      ]
    },
    {
      "cell_type": "markdown",
      "metadata": {
        "id": "5lHKBCD90Gz-"
      },
      "source": [
        "## 2.3.2 가중치와 편향 도입"
      ]
    },
    {
      "cell_type": "code",
      "metadata": {
        "colab": {
          "base_uri": "https://localhost:8080/"
        },
        "id": "G2WC2x5D0mg9",
        "outputId": "c5c3ec63-1b15-48bd-c238-90f8830fb406"
      },
      "source": [
        "import numpy as np\n",
        "\n",
        "x = np.array([0, 1])\n",
        "w = np.array([0.5, 0.5])\n",
        "b = -0.7\n",
        "print(w*x)\n",
        "print(np.sum(w*x))\n",
        "print(np.sum(w*x) + b)"
      ],
      "execution_count": 7,
      "outputs": [
        {
          "output_type": "stream",
          "text": [
            "[0.  0.5]\n",
            "0.5\n",
            "-0.19999999999999996\n"
          ],
          "name": "stdout"
        }
      ]
    },
    {
      "cell_type": "markdown",
      "metadata": {
        "id": "NQXK3k9r1N5q"
      },
      "source": [
        "## 2.3.2 가중치와 편향 구현하기"
      ]
    },
    {
      "cell_type": "code",
      "metadata": {
        "colab": {
          "base_uri": "https://localhost:8080/"
        },
        "id": "Ir2S1KyX1FsC",
        "outputId": "5bc1fa9a-70ed-405b-8022-6003105fb280"
      },
      "source": [
        "def AND(x1, x2):\n",
        "    x = np.array([x1, x2])\n",
        "    w = np.array([0.5, 0.5])\n",
        "    b = -0.7\n",
        "    tmp = np.sum(x*w) + b\n",
        "    if tmp <= 0:\n",
        "        return 0\n",
        "    else:\n",
        "        return 1\n",
        "\n",
        "if __name__ == '__main__':\n",
        "    for xs in [(0, 0), (1, 0), (0, 1), (1, 1)]:\n",
        "        y = AND(xs[0], xs[1])\n",
        "        print(str(xs) + \" -> \" + str(y))"
      ],
      "execution_count": 8,
      "outputs": [
        {
          "output_type": "stream",
          "text": [
            "(0, 0) -> 0\n",
            "(1, 0) -> 0\n",
            "(0, 1) -> 0\n",
            "(1, 1) -> 1\n"
          ],
          "name": "stdout"
        }
      ]
    },
    {
      "cell_type": "code",
      "metadata": {
        "colab": {
          "base_uri": "https://localhost:8080/"
        },
        "id": "GAiQt9uF26BN",
        "outputId": "634d1ab7-db58-495b-de06-9eea3cb45f0e"
      },
      "source": [
        "def OR(x1, x2):\n",
        "    x = np.array([x1, x2])\n",
        "    w = np.array([0.5, 0.5])\n",
        "    b = -0.2\n",
        "    tmp = np.sum(w*x) + b\n",
        "    if tmp <= 0:\n",
        "        return 0\n",
        "    else:\n",
        "        return 1\n",
        "\n",
        "if __name__ == '__main__':\n",
        "    for xs in [(0, 0), (1, 0), (0, 1), (1, 1)]:\n",
        "        y = OR(xs[0], xs[1])\n",
        "        print(str(xs) + \" -> \" + str(y))"
      ],
      "execution_count": 10,
      "outputs": [
        {
          "output_type": "stream",
          "text": [
            "(0, 0) -> 0\n",
            "(1, 0) -> 1\n",
            "(0, 1) -> 1\n",
            "(1, 1) -> 1\n"
          ],
          "name": "stdout"
        }
      ]
    },
    {
      "cell_type": "code",
      "metadata": {
        "colab": {
          "base_uri": "https://localhost:8080/"
        },
        "id": "1y6xRFjZ1n6z",
        "outputId": "178640a7-c57d-4e5c-98b2-384de8b3af2e"
      },
      "source": [
        "def NAND(x1, x2):\n",
        "    x = np.array([x1, x2])\n",
        "    w = np.array([-0.5, -0.5])\n",
        "    b = 0.7\n",
        "    tmp = np.sum(w*x) + b\n",
        "    if tmp <= 0:\n",
        "        return 0\n",
        "    else:\n",
        "        return 1\n",
        "\n",
        "if __name__ == '__main__':\n",
        "    for xs in [(0, 0), (1, 0), (0, 1), (1, 1)]:\n",
        "        y = NAND(xs[0], xs[1])\n",
        "        print(str(xs) + \" -> \" + str(y))"
      ],
      "execution_count": 9,
      "outputs": [
        {
          "output_type": "stream",
          "text": [
            "(0, 0) -> 1\n",
            "(1, 0) -> 1\n",
            "(0, 1) -> 1\n",
            "(1, 1) -> 0\n"
          ],
          "name": "stdout"
        }
      ]
    },
    {
      "cell_type": "markdown",
      "metadata": {
        "id": "P7O-or7F13nj"
      },
      "source": [
        "# 2.4 퍼셉트론의 한계"
      ]
    },
    {
      "cell_type": "code",
      "metadata": {
        "colab": {
          "base_uri": "https://localhost:8080/"
        },
        "id": "_H0EEhJs10rh",
        "outputId": "e8cee228-9b6a-4d5f-f3aa-ac624b81e388"
      },
      "source": [
        "def XOR(x1, x2):\n",
        "    s1 = NAND(x1, x2)\n",
        "    s2 = OR(x1, x2)\n",
        "    y = AND(s1, s2)\n",
        "    return y\n",
        "\n",
        "if __name__ == '__main__':\n",
        "    for xs in [(0, 0), (1, 0), (0, 1), (1, 1)]:\n",
        "        y = XOR(xs[0], xs[1])\n",
        "        print(str(xs) + \" -> \" + str(y))"
      ],
      "execution_count": 11,
      "outputs": [
        {
          "output_type": "stream",
          "text": [
            "(0, 0) -> 0\n",
            "(1, 0) -> 1\n",
            "(0, 1) -> 1\n",
            "(1, 1) -> 0\n"
          ],
          "name": "stdout"
        }
      ]
    },
    {
      "cell_type": "code",
      "metadata": {
        "id": "fnajRLhY2_aL"
      },
      "source": [
        ""
      ],
      "execution_count": null,
      "outputs": []
    }
  ]
}