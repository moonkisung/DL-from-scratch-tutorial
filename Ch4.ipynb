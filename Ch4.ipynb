{
  "nbformat": 4,
  "nbformat_minor": 0,
  "metadata": {
    "colab": {
      "name": "Ch4.ipynb",
      "provenance": [],
      "collapsed_sections": [],
      "toc_visible": true,
      "authorship_tag": "ABX9TyMJhi/TFdqCcJMuKk9QsG4S",
      "include_colab_link": true
    },
    "kernelspec": {
      "name": "python3",
      "display_name": "Python 3"
    }
  },
  "cells": [
    {
      "cell_type": "markdown",
      "metadata": {
        "id": "view-in-github",
        "colab_type": "text"
      },
      "source": [
        "<a href=\"https://colab.research.google.com/github/moonkisung/DL-from-scratch-tutorial/blob/main/Ch4.ipynb\" target=\"_parent\"><img src=\"https://colab.research.google.com/assets/colab-badge.svg\" alt=\"Open In Colab\"/></a>"
      ]
    },
    {
      "cell_type": "markdown",
      "metadata": {
        "id": "s-nifEaa8jUr"
      },
      "source": [
        "\n",
        "# 4.1 Learning in Data"
      ]
    },
    {
      "cell_type": "markdown",
      "metadata": {
        "id": "FxLw4QCH8jS5"
      },
      "source": [
        "## 4.1.1 Data-driven Learning"
      ]
    },
    {
      "cell_type": "markdown",
      "metadata": {
        "id": "KNNCVfCQ8jQ0"
      },
      "source": [
        "## 4.1.2 Train Data and Test Data"
      ]
    },
    {
      "cell_type": "code",
      "metadata": {
        "id": "4VcKkUVt_j0t"
      },
      "source": [
        "import numpy as np"
      ],
      "execution_count": 1,
      "outputs": []
    },
    {
      "cell_type": "markdown",
      "metadata": {
        "id": "EovukWgN8jOi"
      },
      "source": [
        "# 4.2 Loss Function"
      ]
    },
    {
      "cell_type": "markdown",
      "metadata": {
        "id": "5zaQvYpW-1Sj"
      },
      "source": [
        "## 4.2.1 Sum of Squares for Error"
      ]
    },
    {
      "cell_type": "code",
      "metadata": {
        "id": "bdcIBXnC_CEU"
      },
      "source": [
        "y = [0.1, 0.05, 0.6, 0.0, 0.05, 0.1, 0.0, 0.1, 0.0, 0.0]\n",
        "t = [0, 0, 1, 0, 0, 0, 0, 0, 0, 0]"
      ],
      "execution_count": 2,
      "outputs": []
    },
    {
      "cell_type": "code",
      "metadata": {
        "id": "Hv-3lqw-_TWR"
      },
      "source": [
        "def sum_squares_error(y, t):\n",
        "    return 0.5 * np.sum((y-t)**2)"
      ],
      "execution_count": 3,
      "outputs": []
    },
    {
      "cell_type": "code",
      "metadata": {
        "id": "ZMcWGfPF_fud",
        "colab": {
          "base_uri": "https://localhost:8080/"
        },
        "outputId": "a375e58c-a32a-4500-b9b4-1c8d67a58571"
      },
      "source": [
        "sum_squares_error(np.array(y), np.array(t))"
      ],
      "execution_count": 4,
      "outputs": [
        {
          "output_type": "execute_result",
          "data": {
            "text/plain": [
              "0.09750000000000003"
            ]
          },
          "metadata": {
            "tags": []
          },
          "execution_count": 4
        }
      ]
    },
    {
      "cell_type": "code",
      "metadata": {
        "id": "tMKilcnb_0Oo",
        "colab": {
          "base_uri": "https://localhost:8080/"
        },
        "outputId": "b9532f9b-54ea-44cb-acee-5052fd849c72"
      },
      "source": [
        "y = [0.1, 0.05, 0.1, 0.0, 0.05, 0.1, 0.0, 0.6, 0.0, 0.0]\n",
        "sum_squares_error(np.array(y), np.array(t))"
      ],
      "execution_count": 5,
      "outputs": [
        {
          "output_type": "execute_result",
          "data": {
            "text/plain": [
              "0.5975"
            ]
          },
          "metadata": {
            "tags": []
          },
          "execution_count": 5
        }
      ]
    },
    {
      "cell_type": "markdown",
      "metadata": {
        "id": "kk_TaIzd-1Wu"
      },
      "source": [
        "## 4.2.2 Cross Entropy Error"
      ]
    },
    {
      "cell_type": "code",
      "metadata": {
        "id": "rdrrFPuBCuvr"
      },
      "source": [
        "def cross_entropy_error(y, t):\n",
        "    delta = 1e-7\n",
        "    return -np.sum(t * np.log(y + delta))"
      ],
      "execution_count": 6,
      "outputs": []
    },
    {
      "cell_type": "code",
      "metadata": {
        "id": "SI37WLUvCrBC",
        "colab": {
          "base_uri": "https://localhost:8080/"
        },
        "outputId": "0911e95e-2198-45ad-c4d8-32fc49ee97fc"
      },
      "source": [
        "t = [0, 0, 1, 0, 0, 0, 0, 0, 0, 0]\n",
        "y = [0.1, 0.05, 0.6, 0.0, 0.05, 0.1, 0.0, 0.1, 0.0, 0.0]\n",
        "cross_entropy_error(np.array(y), np.array(t))"
      ],
      "execution_count": 7,
      "outputs": [
        {
          "output_type": "execute_result",
          "data": {
            "text/plain": [
              "0.510825457099338"
            ]
          },
          "metadata": {
            "tags": []
          },
          "execution_count": 7
        }
      ]
    },
    {
      "cell_type": "code",
      "metadata": {
        "id": "52v9ggviDIKI",
        "colab": {
          "base_uri": "https://localhost:8080/"
        },
        "outputId": "6bfb114a-b983-4dfb-a354-4b21dd905d56"
      },
      "source": [
        "t = [0, 0, 1, 0, 0, 0, 0, 0, 0, 0]\n",
        "y = [0.1, 0.05, 0.1, 0.0, 0.05, 0.1, 0.0, 0.6, 0.0, 0.0]\n",
        "cross_entropy_error(np.array(y), np.array(t))"
      ],
      "execution_count": 8,
      "outputs": [
        {
          "output_type": "execute_result",
          "data": {
            "text/plain": [
              "2.302584092994546"
            ]
          },
          "metadata": {
            "tags": []
          },
          "execution_count": 8
        }
      ]
    },
    {
      "cell_type": "markdown",
      "metadata": {
        "id": "g2KXeMmk-1Zw"
      },
      "source": [
        "## 4.2.3 Minibatch Learning"
      ]
    },
    {
      "cell_type": "code",
      "metadata": {
        "id": "HJrJoc31Gssj",
        "colab": {
          "base_uri": "https://localhost:8080/"
        },
        "outputId": "b7c90c39-652e-4fd0-a901-977d7cd21d39"
      },
      "source": [
        "!git clone https://github.com/WegraLee/deep-learning-from-scratch"
      ],
      "execution_count": 9,
      "outputs": [
        {
          "output_type": "stream",
          "text": [
            "Cloning into 'deep-learning-from-scratch'...\n",
            "remote: Enumerating objects: 826, done.\u001b[K\n",
            "remote: Total 826 (delta 0), reused 0 (delta 0), pack-reused 826\u001b[K\n",
            "Receiving objects: 100% (826/826), 52.21 MiB | 36.82 MiB/s, done.\n",
            "Resolving deltas: 100% (477/477), done.\n"
          ],
          "name": "stdout"
        }
      ]
    },
    {
      "cell_type": "code",
      "metadata": {
        "id": "vCF2hRTtHOST",
        "colab": {
          "base_uri": "https://localhost:8080/"
        },
        "outputId": "23a70318-4e3c-46f3-f7f9-194157c643a1"
      },
      "source": [
        "%cd /content/deep-learning-from-scratch/ch04"
      ],
      "execution_count": 10,
      "outputs": [
        {
          "output_type": "stream",
          "text": [
            "/content/deep-learning-from-scratch/ch04\n"
          ],
          "name": "stdout"
        }
      ]
    },
    {
      "cell_type": "code",
      "metadata": {
        "id": "3UuNslMKDiNM",
        "colab": {
          "base_uri": "https://localhost:8080/"
        },
        "outputId": "59662217-ac47-4039-c0f5-97c25bafd872"
      },
      "source": [
        "import sys, os\n",
        "sys.path.append(os.pardir)  # 부모 디렉터리의 파일을 가져올 수 있도록 설정\n",
        "import numpy as np\n",
        "from dataset.mnist import load_mnist\n",
        "\n",
        "(x_train, t_train), (x_test, t_test) = load_mnist(normalize=True, one_hot_label=True)\n",
        "\n",
        "print(x_train.shape)\n",
        "print(t_train.shape)"
      ],
      "execution_count": 11,
      "outputs": [
        {
          "output_type": "stream",
          "text": [
            "Converting train-images-idx3-ubyte.gz to NumPy Array ...\n",
            "Done\n",
            "Converting train-labels-idx1-ubyte.gz to NumPy Array ...\n",
            "Done\n",
            "Converting t10k-images-idx3-ubyte.gz to NumPy Array ...\n",
            "Done\n",
            "Converting t10k-labels-idx1-ubyte.gz to NumPy Array ...\n",
            "Done\n",
            "Creating pickle file ...\n",
            "Done!\n",
            "(60000, 784)\n",
            "(60000, 10)\n"
          ],
          "name": "stdout"
        }
      ]
    },
    {
      "cell_type": "code",
      "metadata": {
        "id": "YA_UYemmG1zh"
      },
      "source": [
        "train_size = x_train.shape[0]\n",
        "batch_size = 10\n",
        "batch_mask = np.random.choice(train_size, batch_size)\n",
        "x_batch = x_train[batch_mask]\n",
        "t_batch = t_train[batch_mask]"
      ],
      "execution_count": 12,
      "outputs": []
    },
    {
      "cell_type": "markdown",
      "metadata": {
        "id": "Ute97X_E1rhP"
      },
      "source": [
        "## 4.2.4 (For Batch)Implementing Cross Entropy Loss"
      ]
    },
    {
      "cell_type": "code",
      "metadata": {
        "id": "QaP7LGkiHRGe",
        "colab": {
          "base_uri": "https://localhost:8080/"
        },
        "outputId": "6afb1bab-e1bc-4200-9cf4-529033c4b3d5"
      },
      "source": [
        "def cross_entropy_error(y, t):\n",
        "    if y.ndim == 1:\n",
        "        t = t.reshape(1, t.size)\n",
        "        y = y.reshape(1, y.size)\n",
        "        \n",
        "    batch_size = y.shape[0]\n",
        "    return -np.sum(t * np.log(y + 1e-7)) / batch_size\n",
        "\n",
        "y = np.array([0.1,0.5,0.7])\n",
        "t = np.array([0,0,1])\n",
        "cross_entropy_error(y, t)"
      ],
      "execution_count": 13,
      "outputs": [
        {
          "output_type": "execute_result",
          "data": {
            "text/plain": [
              "0.3566748010815999"
            ]
          },
          "metadata": {
            "tags": []
          },
          "execution_count": 13
        }
      ]
    },
    {
      "cell_type": "code",
      "metadata": {
        "id": "3RnOFb5voIzr"
      },
      "source": [
        "def cross_entropy_error(y, t):\n",
        "    if y.ndim == 1:\n",
        "        t = t.reshape(1, t.size)\n",
        "        y = y.reshape(1, y.size)\n",
        "    \n",
        "    batch_size = y.shape[0]\n",
        "    return -np.sum(np.log(y[np.arange(batch_size), t]))"
      ],
      "execution_count": 14,
      "outputs": []
    },
    {
      "cell_type": "markdown",
      "metadata": {
        "id": "xUGVm-VX2Aag"
      },
      "source": [
        "##4.2.5 Why set up Loss Function?"
      ]
    },
    {
      "cell_type": "markdown",
      "metadata": {
        "id": "3FVpCMKg2TuR"
      },
      "source": [
        "# 4.3 Numerical Differentiation"
      ]
    },
    {
      "cell_type": "markdown",
      "metadata": {
        "id": "hHhJU5od2dj3"
      },
      "source": [
        "## 4.3.1 Differentiation"
      ]
    },
    {
      "cell_type": "code",
      "metadata": {
        "id": "nIntmrnz0j0s"
      },
      "source": [
        "def numerical_diff(f, x):\n",
        "    h = 1e-4 # 0.0001\n",
        "    return (f(x+h)-f(x-h)) / (2*h)"
      ],
      "execution_count": 15,
      "outputs": []
    },
    {
      "cell_type": "markdown",
      "metadata": {
        "id": "FqVWFTK92khb"
      },
      "source": [
        "## 4.3.2 Examples of Numerical Differentiation"
      ]
    },
    {
      "cell_type": "code",
      "metadata": {
        "id": "c_uPeDhW1bGY"
      },
      "source": [
        "def function_1(x):\n",
        "    return 0.01*x**2 + 0.1*x"
      ],
      "execution_count": 16,
      "outputs": []
    },
    {
      "cell_type": "code",
      "metadata": {
        "id": "VHzJADGl1j99",
        "colab": {
          "base_uri": "https://localhost:8080/",
          "height": 279
        },
        "outputId": "905dc69d-68a7-4e14-a71d-61286c198217"
      },
      "source": [
        "import numpy as np\n",
        "import matplotlib.pylab as plt\n",
        "\n",
        "x = np.arange(0, 20.0, 0.1)  # 20은 미포함\n",
        "y = function_1(x)\n",
        "plt.xlabel(\"x\")\n",
        "plt.ylabel(\"f(x)\")\n",
        "plt.plot(x, y)\n",
        "plt.show()"
      ],
      "execution_count": 17,
      "outputs": [
        {
          "output_type": "display_data",
          "data": {
            "image/png": "[encoded data removed]",
            "text/plain": [
              "<Figure size 432x288 with 1 Axes>"
            ]
          },
          "metadata": {
            "tags": [],
            "needs_background": "light"
          }
        }
      ]
    },
    {
      "cell_type": "code",
      "metadata": {
        "id": "sigzfddICujH",
        "colab": {
          "base_uri": "https://localhost:8080/"
        },
        "outputId": "e66b3069-1233-4d4b-eb95-de3666746c21"
      },
      "source": [
        "numerical_diff(function_1, 5)"
      ],
      "execution_count": 18,
      "outputs": [
        {
          "output_type": "execute_result",
          "data": {
            "text/plain": [
              "0.1999999999990898"
            ]
          },
          "metadata": {
            "tags": []
          },
          "execution_count": 18
        }
      ]
    },
    {
      "cell_type": "code",
      "metadata": {
        "id": "rhPUCF0_C8RR",
        "colab": {
          "base_uri": "https://localhost:8080/"
        },
        "outputId": "bea90e24-a7d4-4160-bed2-7e24c821fbb0"
      },
      "source": [
        "numerical_diff(function_1, 10)"
      ],
      "execution_count": 19,
      "outputs": [
        {
          "output_type": "execute_result",
          "data": {
            "text/plain": [
              "0.2999999999986347"
            ]
          },
          "metadata": {
            "tags": []
          },
          "execution_count": 19
        }
      ]
    },
    {
      "cell_type": "markdown",
      "metadata": {
        "id": "IJjyitkUDIMi"
      },
      "source": [
        "## 4.3.3 Partial derivative"
      ]
    },
    {
      "cell_type": "code",
      "metadata": {
        "id": "514tamC2C-VX"
      },
      "source": [
        "def function_2(x):\n",
        "    return x[0]**2 + x[1]**2\n",
        "    return np.sum(x**2)"
      ],
      "execution_count": 20,
      "outputs": []
    },
    {
      "cell_type": "code",
      "metadata": {
        "id": "m0ffBk34Dwac",
        "colab": {
          "base_uri": "https://localhost:8080/"
        },
        "outputId": "b32ae526-65cc-418c-feab-dae1823e299c"
      },
      "source": [
        "# Problem 1: When x0 = 3, x1 = 4, Calculate partial derivative about x0\n",
        "def function_tmp1(x0):\n",
        "    return x0*x0 + 4.0**2.0\n",
        "\n",
        "numerical_diff(function_tmp1, 3.0)"
      ],
      "execution_count": 21,
      "outputs": [
        {
          "output_type": "execute_result",
          "data": {
            "text/plain": [
              "6.00000000000378"
            ]
          },
          "metadata": {
            "tags": []
          },
          "execution_count": 21
        }
      ]
    },
    {
      "cell_type": "code",
      "metadata": {
        "id": "JuqOvY_PGdD0"
      },
      "source": [
        "# Problem 2: When x0 = 3, x1 = 4, Calculate partial derivative about x1\n",
        "def function_tmp2(x1):\n",
        "    return 3.0**2.0 + x1*x1"
      ],
      "execution_count": 22,
      "outputs": []
    },
    {
      "cell_type": "code",
      "metadata": {
        "id": "_8wRzxL5GrOa",
        "colab": {
          "base_uri": "https://localhost:8080/"
        },
        "outputId": "873bb08d-7fcb-4407-ba42-390c9409c01a"
      },
      "source": [
        "numerical_diff(function_tmp2, 4.0)"
      ],
      "execution_count": 23,
      "outputs": [
        {
          "output_type": "execute_result",
          "data": {
            "text/plain": [
              "7.999999999999119"
            ]
          },
          "metadata": {
            "tags": []
          },
          "execution_count": 23
        }
      ]
    },
    {
      "cell_type": "markdown",
      "metadata": {
        "id": "TUcPayBFHFIY"
      },
      "source": [
        "# 4.4 Gradient"
      ]
    },
    {
      "cell_type": "code",
      "metadata": {
        "id": "viGImOYSHCz5"
      },
      "source": [
        "def numerical_gradient(f, x):\n",
        "    h = 1e-4\n",
        "    grad = np.zeros_like(x)  # x와 형상이 같은 배열을 생성\n",
        "    \n",
        "    for idx in range(x.size):\n",
        "        tmp_val = x[idx]\n",
        "        # Calculating f(x+h)\n",
        "        x[idx] = tmp_val + h\n",
        "        fxh1 = f(x)\n",
        "        # print(fxh1)\n",
        "        # Calculation f(x-h)\n",
        "        x[idx] = tmp_val - h\n",
        "        fxh2 = f(x)\n",
        "\n",
        "        grad[idx] = (fxh1 - fxh2) / (2*h)\n",
        "        x[idx] = tmp_val  # restoring values\n",
        "\n",
        "    return grad"
      ],
      "execution_count": 24,
      "outputs": []
    },
    {
      "cell_type": "code",
      "metadata": {
        "id": "9ipdyelLJGBN",
        "colab": {
          "base_uri": "https://localhost:8080/"
        },
        "outputId": "2ab47c18-57b6-49ce-934d-4e1b9f4c0ce4"
      },
      "source": [
        "np.array([2,4]).size"
      ],
      "execution_count": 25,
      "outputs": [
        {
          "output_type": "execute_result",
          "data": {
            "text/plain": [
              "2"
            ]
          },
          "metadata": {
            "tags": []
          },
          "execution_count": 25
        }
      ]
    },
    {
      "cell_type": "code",
      "metadata": {
        "id": "4TWLm-w6MiZW",
        "colab": {
          "base_uri": "https://localhost:8080/"
        },
        "outputId": "0c3e6651-a616-49af-b714-d24d09011b9b"
      },
      "source": [
        "np.zeros_like(np.array([2,4]))"
      ],
      "execution_count": 26,
      "outputs": [
        {
          "output_type": "execute_result",
          "data": {
            "text/plain": [
              "array([0, 0])"
            ]
          },
          "metadata": {
            "tags": []
          },
          "execution_count": 26
        }
      ]
    },
    {
      "cell_type": "code",
      "metadata": {
        "id": "JxydAenBBT9Z"
      },
      "source": [
        "# def function_2(x):\n",
        "#     return x[0]**2 + x[1]**2\n",
        "#     return np.sum(x**2)"
      ],
      "execution_count": 27,
      "outputs": []
    },
    {
      "cell_type": "code",
      "metadata": {
        "id": "yjEacc-KJJIT",
        "colab": {
          "base_uri": "https://localhost:8080/"
        },
        "outputId": "10f86598-8335-406d-b541-36d270203286"
      },
      "source": [
        "numerical_gradient(function_2, np.array([3.0, 4.0]))"
      ],
      "execution_count": 28,
      "outputs": [
        {
          "output_type": "execute_result",
          "data": {
            "text/plain": [
              "array([6., 8.])"
            ]
          },
          "metadata": {
            "tags": []
          },
          "execution_count": 28
        }
      ]
    },
    {
      "cell_type": "code",
      "metadata": {
        "id": "TgtiZhlIMEnL",
        "colab": {
          "base_uri": "https://localhost:8080/"
        },
        "outputId": "0ec7919a-322a-4082-992b-82c4d6b90a49"
      },
      "source": [
        "numerical_gradient(function_2, np.array([0.0, 2.0]))"
      ],
      "execution_count": 29,
      "outputs": [
        {
          "output_type": "execute_result",
          "data": {
            "text/plain": [
              "array([0., 4.])"
            ]
          },
          "metadata": {
            "tags": []
          },
          "execution_count": 29
        }
      ]
    },
    {
      "cell_type": "code",
      "metadata": {
        "id": "gHSfAfUxMIXD",
        "colab": {
          "base_uri": "https://localhost:8080/"
        },
        "outputId": "840f9a9b-0e36-4ca8-b83c-c6732e72e0ea"
      },
      "source": [
        "numerical_gradient(function_2, np.array([3.0, 0.0]))"
      ],
      "execution_count": 30,
      "outputs": [
        {
          "output_type": "execute_result",
          "data": {
            "text/plain": [
              "array([6., 0.])"
            ]
          },
          "metadata": {
            "tags": []
          },
          "execution_count": 30
        }
      ]
    },
    {
      "cell_type": "markdown",
      "metadata": {
        "id": "WOT7ZUkTRd84"
      },
      "source": [
        "## 4.4.1 Gradient method(Gradient Descent Method)"
      ]
    },
    {
      "cell_type": "code",
      "metadata": {
        "id": "iO6DGDXxMJ2F"
      },
      "source": [
        "def gradient_descent(f, init_x, lr=0.01, step_num=100):\n",
        "    x = init_x\n",
        "\n",
        "    for i in range(step_num):\n",
        "        grad = numerical_gradient(f, x)\n",
        "        x -= lr * grad\n",
        "    return x"
      ],
      "execution_count": 31,
      "outputs": []
    },
    {
      "cell_type": "code",
      "metadata": {
        "id": "ae_4qRUdS3wH",
        "colab": {
          "base_uri": "https://localhost:8080/"
        },
        "outputId": "d6055444-aec4-4852-8b67-76c01b1e1db8"
      },
      "source": [
        "# Problem : Calculating minimum values using gradient method\n",
        "def function_2(x):\n",
        "    return x[0]**2 + x[1]**2\n",
        "\n",
        "init_x = np.array([-3.0, 4.0])\n",
        "gradient_descent(function_2, init_x=init_x, lr=0.1, step_num=100)"
      ],
      "execution_count": 32,
      "outputs": [
        {
          "output_type": "execute_result",
          "data": {
            "text/plain": [
              "array([-6.11110793e-10,  8.14814391e-10])"
            ]
          },
          "metadata": {
            "tags": []
          },
          "execution_count": 32
        }
      ]
    },
    {
      "cell_type": "code",
      "metadata": {
        "id": "fdtYRuh_TWfC",
        "colab": {
          "base_uri": "https://localhost:8080/"
        },
        "outputId": "d4663aee-20d9-48dc-d80b-755d71bcc6a9"
      },
      "source": [
        "init_x = np.array([-3.0, 4.0])\n",
        "gradient_descent(function_2, init_x=init_x, lr=10.0, step_num=100)"
      ],
      "execution_count": 33,
      "outputs": [
        {
          "output_type": "execute_result",
          "data": {
            "text/plain": [
              "array([-2.58983747e+13, -1.29524862e+12])"
            ]
          },
          "metadata": {
            "tags": []
          },
          "execution_count": 33
        }
      ]
    },
    {
      "cell_type": "code",
      "metadata": {
        "id": "Yv5vpStkTZDU",
        "colab": {
          "base_uri": "https://localhost:8080/"
        },
        "outputId": "e87b1aa3-cd36-4efc-d14d-08f3c74a80aa"
      },
      "source": [
        "init_x = np.array([-3.0, 4.0])\n",
        "gradient_descent(function_2, init_x=init_x, lr=1e-10, step_num=100)"
      ],
      "execution_count": 34,
      "outputs": [
        {
          "output_type": "execute_result",
          "data": {
            "text/plain": [
              "array([-2.99999994,  3.99999992])"
            ]
          },
          "metadata": {
            "tags": []
          },
          "execution_count": 34
        }
      ]
    },
    {
      "cell_type": "markdown",
      "metadata": {
        "id": "r7jK93LYUnA_"
      },
      "source": [
        "## 4.4.2 Gradient in Neural Network"
      ]
    },
    {
      "cell_type": "code",
      "metadata": {
        "id": "8ZpGJZvvUOZQ"
      },
      "source": [
        "import sys, os\n",
        "sys.path.append(os.pardir)  # 부모 디렉터리의 파일을 가져올 수 있도록 설정\n",
        "import numpy as np\n",
        "from common.functions import softmax, cross_entropy_error\n",
        "from common.gradient import numerical_gradient"
      ],
      "execution_count": 35,
      "outputs": []
    },
    {
      "cell_type": "code",
      "metadata": {
        "id": "3MhK6AapW8ER"
      },
      "source": [
        "class simpleNet:\n",
        "    def __init__(self):\n",
        "        self.W = np.random.randn(2,3) # initializing normal distribution\n",
        "\n",
        "    def predict(self, x):\n",
        "        return np.dot(x, self.W)\n",
        "\n",
        "    def loss(self, x, t):\n",
        "        z = self.predict(x)\n",
        "        y = softmax(z)\n",
        "        loss = cross_entropy_error(y, t)\n",
        "\n",
        "        return loss"
      ],
      "execution_count": 36,
      "outputs": []
    },
    {
      "cell_type": "code",
      "metadata": {
        "id": "sz2PcC9QX3Ru",
        "colab": {
          "base_uri": "https://localhost:8080/"
        },
        "outputId": "a90c3a95-35b5-4e62-f029-2e486b28a0f9"
      },
      "source": [
        "net = simpleNet()\n",
        "print(net.W)"
      ],
      "execution_count": 37,
      "outputs": [
        {
          "output_type": "stream",
          "text": [
            "[[ 0.65602462  0.83133543 -0.71086548]\n",
            " [ 0.977846    0.61654707  0.30627754]]\n"
          ],
          "name": "stdout"
        }
      ]
    },
    {
      "cell_type": "code",
      "metadata": {
        "id": "1Wx3PBMBX6P4",
        "colab": {
          "base_uri": "https://localhost:8080/"
        },
        "outputId": "1079d6da-7a8f-411b-c77e-cdec17cde095"
      },
      "source": [
        "x = np.array([0.6, 0.9])\n",
        "p = net.predict(x)\n",
        "print(p)"
      ],
      "execution_count": 38,
      "outputs": [
        {
          "output_type": "stream",
          "text": [
            "[ 1.27367617  1.05369362 -0.15086951]\n"
          ],
          "name": "stdout"
        }
      ]
    },
    {
      "cell_type": "code",
      "metadata": {
        "id": "pn3Ta72OYHdk",
        "colab": {
          "base_uri": "https://localhost:8080/"
        },
        "outputId": "2446379f-0b51-4ddb-9f5b-56c7ce9fa714"
      },
      "source": [
        "np.argmax(p)"
      ],
      "execution_count": 39,
      "outputs": [
        {
          "output_type": "execute_result",
          "data": {
            "text/plain": [
              "0"
            ]
          },
          "metadata": {
            "tags": []
          },
          "execution_count": 39
        }
      ]
    },
    {
      "cell_type": "code",
      "metadata": {
        "id": "vNKgjSxEaGUt",
        "colab": {
          "base_uri": "https://localhost:8080/"
        },
        "outputId": "2cd1bd8d-da7d-4d55-e4b4-0c8a5fc026bc"
      },
      "source": [
        "softmax(p)"
      ],
      "execution_count": 40,
      "outputs": [
        {
          "output_type": "execute_result",
          "data": {
            "text/plain": [
              "array([0.48944019, 0.39279181, 0.117768  ])"
            ]
          },
          "metadata": {
            "tags": []
          },
          "execution_count": 40
        }
      ]
    },
    {
      "cell_type": "code",
      "metadata": {
        "id": "R50R79SDYRoE",
        "colab": {
          "base_uri": "https://localhost:8080/"
        },
        "outputId": "b4dc590a-e327-4b17-de42-aea9692597e1"
      },
      "source": [
        "t = np.array([0, 0, 1])\n",
        "net.loss(x, t)"
      ],
      "execution_count": 41,
      "outputs": [
        {
          "output_type": "execute_result",
          "data": {
            "text/plain": [
              "2.139037834538429"
            ]
          },
          "metadata": {
            "tags": []
          },
          "execution_count": 41
        }
      ]
    },
    {
      "cell_type": "code",
      "metadata": {
        "id": "Te-bt87oYcEs"
      },
      "source": [
        "def f(W):\n",
        "    return net.loss(x, t)"
      ],
      "execution_count": 42,
      "outputs": []
    },
    {
      "cell_type": "code",
      "metadata": {
        "id": "ubCa1yQ286Au"
      },
      "source": [
        "f = lambda w: net.loss(x, t)"
      ],
      "execution_count": 43,
      "outputs": []
    },
    {
      "cell_type": "code",
      "metadata": {
        "id": "zWFTmjVW499P",
        "colab": {
          "base_uri": "https://localhost:8080/"
        },
        "outputId": "fe6de33f-bc74-4217-d9e9-0d31c0066370"
      },
      "source": [
        "dW = numerical_gradient(f, net.W)\n",
        "print(dW)"
      ],
      "execution_count": 44,
      "outputs": [
        {
          "output_type": "stream",
          "text": [
            "[[ 0.29366387  0.23567488 -0.52933875]\n",
            " [ 0.4404958   0.35351233 -0.79400812]]\n"
          ],
          "name": "stdout"
        }
      ]
    },
    {
      "cell_type": "markdown",
      "metadata": {
        "id": "61BawhT5_7HR"
      },
      "source": [
        "# 4.5 Implement Learning Algorithm"
      ]
    },
    {
      "cell_type": "markdown",
      "metadata": {
        "id": "fOar16cyAftv"
      },
      "source": [
        "## 4.5.1 Implement Two layer Neural Network Class"
      ]
    },
    {
      "cell_type": "code",
      "metadata": {
        "id": "LSzCbbbQ5AuG"
      },
      "source": [
        "import sys, os\n",
        "sys.path.append(os.pardir)\n",
        "from common.functions import *\n",
        "from common.gradient import numerical_gradient\n",
        "\n",
        "class TwoLayerNet:\n",
        "    def __init__(self, input_size, hidden_size, output_size, weight_init_std=0.01):\n",
        "        # Initializing Weights\n",
        "        self.params = {}\n",
        "        self.params['W1'] = weight_init_std * np.random.randn(input_size, hidden_size)\n",
        "        self.params['b1'] = np.zeros(hidden_size)\n",
        "        self.params['W2'] = weight_init_std * np.random.randn(hidden_size, output_size)\n",
        "        self.params['b2'] = np.zeros(output_size)\n",
        "\n",
        "    def predict(self, x):\n",
        "        W1, W2 = self.params['W1'], self.params['W2']\n",
        "        b1, b2 = self.params['b1'], self.params['b2']\n",
        "\n",
        "        a1 = np.dot(x, W1) + b1\n",
        "        z1 = sigmoid(a1)\n",
        "        a2 = np.dot(z1, W2) + b2\n",
        "        y = sigmoid(z1)\n",
        "\n",
        "        return y\n",
        "    \n",
        "    # x : input data, t : true label\n",
        "    def loss(x, t):\n",
        "        y = self.predict(x)\n",
        "        \n",
        "        return cross_entropy_error(y, t)\n",
        "\n",
        "    def accuracy(self, x, t):\n",
        "        y = self.predict(x)\n",
        "        y = np.argmax(y, axis=1)\n",
        "        t = np.argmax(t, axis=1)\n",
        "\n",
        "        accuracy = np.sum(y == t) / float(x.shape[0])\n",
        "        return accuracy\n",
        "\n",
        "    def numerical_gradient(self, x, t):\n",
        "        loss_W = lambda W: self.loss(x, t)\n",
        "\n",
        "        grads = {}\n",
        "        grads['W1'] = numerical_gradient(loss_W, self.params['W1'])\n",
        "        grads['b1'] = numerical_gradient(loss_W, self.params['b1'])\n",
        "        grads['W2'] = numerical_gradient(loss_W, self.params['W2'])\n",
        "        grads['b2'] = numerical_gradient(loss_W, self.params['b2'])\n",
        "\n",
        "        return grads"
      ],
      "execution_count": 45,
      "outputs": []
    },
    {
      "cell_type": "code",
      "metadata": {
        "id": "Tf-8bWXnDqKM",
        "colab": {
          "base_uri": "https://localhost:8080/"
        },
        "outputId": "b751cf52-dd26-492b-9825-fb002b4242be"
      },
      "source": [
        "net = TwoLayerNet(input_size=784, hidden_size=100, output_size=10)\n",
        "print(net.params['W1'].shape)\n",
        "print(net.params['b1'].shape)\n",
        "print(net.params['W2'].shape)\n",
        "print(net.params['b2'].shape)"
      ],
      "execution_count": 46,
      "outputs": [
        {
          "output_type": "stream",
          "text": [
            "(784, 100)\n",
            "(100,)\n",
            "(100, 10)\n",
            "(10,)\n"
          ],
          "name": "stdout"
        }
      ]
    },
    {
      "cell_type": "code",
      "metadata": {
        "id": "8UUj7YY0Dsa5",
        "colab": {
          "base_uri": "https://localhost:8080/"
        },
        "outputId": "9d7dee37-98b4-4f3b-b048-c5227b1576b2"
      },
      "source": [
        "x = np.random.rand(100, 784)\n",
        "y = net.predict(x)\n",
        "print(y)"
      ],
      "execution_count": 47,
      "outputs": [
        {
          "output_type": "stream",
          "text": [
            "[[0.61856961 0.61709703 0.62815774 ... 0.6183943  0.62964834 0.61257952]\n",
            " [0.60753324 0.61645418 0.62367291 ... 0.62315102 0.62923447 0.60656029]\n",
            " [0.61143406 0.6124368  0.62816545 ... 0.61522334 0.63151617 0.60784339]\n",
            " ...\n",
            " [0.60816273 0.61428203 0.63094415 ... 0.62629401 0.63131501 0.60863075]\n",
            " [0.61811084 0.61058916 0.62270258 ... 0.63021305 0.62760034 0.61197988]\n",
            " [0.61547522 0.61567039 0.62247645 ... 0.62127281 0.63022683 0.61788625]]\n"
          ],
          "name": "stdout"
        }
      ]
    },
    {
      "cell_type": "code",
      "metadata": {
        "id": "n7UAgTxwCoV8"
      },
      "source": [
        ""
      ],
      "execution_count": 47,
      "outputs": []
    },
    {
      "cell_type": "markdown",
      "metadata": {
        "id": "SGlC9jEHhaCo"
      },
      "source": [
        "## 4.5.2 Implement Mini-batch Learning\n"
      ]
    },
    {
      "cell_type": "code",
      "metadata": {
        "id": "wdSSfkLqFi78"
      },
      "source": [
        "import numpy as np\n",
        "from dataset.mnist import load_mnist\n",
        "from two_layer_net import TwoLayerNet\n",
        "\n",
        "(x_train, t_train), (x_test, t_test) = load_mnist(normalize=True, one_hot_label=True)\n",
        "\n",
        "train_loss_list = []\n",
        "\n",
        "# Hyperparameter\n",
        "iters_num = 10000\n",
        "train_size = x_train.shape[0]\n",
        "batch_size = 100  # Minibatch Size\n",
        "learning_rate = 0.1\n",
        "network = TwoLayerNet(input_size=784, hidden_size=50, output_size=10)\n",
        "\n",
        "for i in range(iters_num):\n",
        "    # Obtaining Mini-batch\n",
        "    batch_mask = np.random.choice(train_size, batch_size)\n",
        "    x_batch = x_train[batch_mask]\n",
        "    t_batch = t_train[batch_mask]\n",
        "\n",
        "    # Calculating gradient\n",
        "    grad = network.numerical_gradient(x_batch, t_batch)\n",
        "    # grad = network.gradient(x_batch, t_batch) # Performance improvement version\n",
        "\n",
        "    # Hyperparameter update\n",
        "    for key in ('W1', 'b1', 'W2', 'b2'):\n",
        "        network.params[key] -= learning_rate * grad[key]\n",
        "\n",
        "    # Recording Learning Process\n",
        "    loss = network.loss(x_batch, t_batch)\n",
        "    train_loss_list.append(loss)"
      ],
      "execution_count": null,
      "outputs": []
    },
    {
      "cell_type": "markdown",
      "metadata": {
        "id": "bAHJPGWee9bj"
      },
      "source": [
        "## 4.5.3 Validation using test data"
      ]
    },
    {
      "cell_type": "code",
      "metadata": {
        "id": "Uz7OzPLdnJIw"
      },
      "source": [
        "import numpy as np\n",
        "from dataset.mnist import load_mnist\n",
        "from two_layer_net import TwoLayerNet\n",
        "\n",
        "(x_train, t_train), (x_test, t_test) = load_mnist(normalize=True, one_hot_label=True)\n",
        "\n",
        "network = TwoLayerNet(input_size=784, hidden_size=50, output_size=10)\n",
        "\n",
        "# Hyperparameter\n",
        "iters_num = 10000\n",
        "train_size = x_train.shape[0]\n",
        "batch_size = 100  # Minibatch Size\n",
        "learning_rate = 0.1\n",
        "\n",
        "train_loss_list = []\n",
        "train_acc_list = []\n",
        "test_acc_list = []\n",
        "\n",
        "iter_per_epoch = max(train_size / batch_size, 1)\n",
        "\n",
        "for i in range(iters_num):\n",
        "    # Obtaining Mini-batch\n",
        "    batch_mask = np.random.choice(train_size, batch_size)\n",
        "    x_batch = x_train[batch_mask]\n",
        "    t_batch = t_train[batch_mask]\n",
        "\n",
        "    # Calculating gradient\n",
        "    grad = network.numerical_gradient(x_batch, t_batch)\n",
        "    # grad = network.gradient(x_batch, t_batch) # Performance improvement version\n",
        "\n",
        "    # Hyperparameter update\n",
        "    for key in ('W1', 'b1', 'W2', 'b2'):\n",
        "        network.params[key] -= learning_rate * grad[key]\n",
        "\n",
        "    # Recording Learning Process\n",
        "    loss = network.loss(x_batch, t_batch)\n",
        "    train_loss_list.append(loss)\n",
        "\n",
        "    # Calculating accuracy per 1epoch\n",
        "    if i % iter_per_epoch == 0:\n",
        "        train_acc = network.accuracy(x_train, t_train)\n",
        "        test_acc = network.accuracy(x_test, t_test)\n",
        "        train_acc_list.append(train_acc)\n",
        "        test_acc_list.append(test_acc)\n",
        "        print(\"train acc, test acc : \"\n",
        "            + str(train_acc) + \", \" = str(test_acc))"
      ],
      "execution_count": null,
      "outputs": []
    },
    {
      "cell_type": "code",
      "metadata": {
        "id": "T3wtR_wFfEYe"
      },
      "source": [
        ""
      ],
      "execution_count": null,
      "outputs": []
    }
  ]
}