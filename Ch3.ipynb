{
  "nbformat": 4,
  "nbformat_minor": 0,
  "metadata": {
    "colab": {
      "name": "Ch3.ipynb",
      "provenance": [],
      "collapsed_sections": [
        "iK2oQIcEUt-P"
      ],
      "toc_visible": true,
      "authorship_tag": "ABX9TyNY1cCxtgCPMmLn73YI2fe5",
      "include_colab_link": true
    },
    "kernelspec": {
      "name": "python3",
      "display_name": "Python 3"
    }
  },
  "cells": [
    {
      "cell_type": "markdown",
      "metadata": {
        "id": "view-in-github",
        "colab_type": "text"
      },
      "source": [
        "<a href=\"https://colab.research.google.com/github/moonkisung/DL-from-scratch-tutorial/blob/main/Ch3.ipynb\" target=\"_parent\"><img src=\"https://colab.research.google.com/assets/colab-badge.svg\" alt=\"Open In Colab\"/></a>"
      ]
    },
    {
      "cell_type": "code",
      "metadata": {
        "id": "vlBaFPq0CHDm",
        "colab": {
          "base_uri": "https://localhost:8080/"
        },
        "outputId": "7b87e20c-86e4-4b6b-e9ec-9c2efc25d214"
      },
      "source": [
        "!git clone https://github.com/WegraLee/deep-learning-from-scratch"
      ],
      "execution_count": null,
      "outputs": [
        {
          "output_type": "stream",
          "text": [
            "Cloning into 'deep-learning-from-scratch'...\n",
            "remote: Enumerating objects: 26, done.\u001b[K\n",
            "remote: Counting objects: 100% (26/26), done.\u001b[K\n",
            "remote: Compressing objects: 100% (26/26), done.\u001b[K\n",
            "remote: Total 817 (delta 11), reused 0 (delta 0), pack-reused 791\u001b[K\n",
            "Receiving objects: 100% (817/817), 52.21 MiB | 42.53 MiB/s, done.\n",
            "Resolving deltas: 100% (468/468), done.\n"
          ],
          "name": "stdout"
        }
      ]
    },
    {
      "cell_type": "code",
      "metadata": {
        "id": "GX_KF5pEG759"
      },
      "source": [
        "import numpy as np"
      ],
      "execution_count": null,
      "outputs": []
    },
    {
      "cell_type": "markdown",
      "metadata": {
        "id": "uHKlMeRZEel0"
      },
      "source": [
        "#3.1 Perceptron to Neural Network"
      ]
    },
    {
      "cell_type": "markdown",
      "metadata": {
        "id": "-vjWSWkvFG42"
      },
      "source": [
        "#3.2 Activation Function"
      ]
    },
    {
      "cell_type": "markdown",
      "metadata": {
        "id": "UjLgkwdIFHRk"
      },
      "source": [
        "## 3.2.1 Sigmoid Function"
      ]
    },
    {
      "cell_type": "markdown",
      "metadata": {
        "id": "qPm6DuwWFNII"
      },
      "source": [
        "## 3.2.2 Implementing Step Function"
      ]
    },
    {
      "cell_type": "code",
      "metadata": {
        "id": "VNkLcSyJCRxu"
      },
      "source": [
        "def step_function(x):\n",
        "    if x > 0:\n",
        "        return 1\n",
        "    else:\n",
        "        return 0"
      ],
      "execution_count": null,
      "outputs": []
    },
    {
      "cell_type": "code",
      "metadata": {
        "id": "75edTGC6G0Ac"
      },
      "source": [
        "def step_function(x):\n",
        "    y = x > 0\n",
        "    return y.astype(np.int)"
      ],
      "execution_count": null,
      "outputs": []
    },
    {
      "cell_type": "code",
      "metadata": {
        "id": "OAbyUu9lHHVG",
        "colab": {
          "base_uri": "https://localhost:8080/"
        },
        "outputId": "3c98fc9b-e702-4700-9001-5a63e18be6ce"
      },
      "source": [
        "x = np.array([-1.0, 1.0, 2.0])\n",
        "x"
      ],
      "execution_count": null,
      "outputs": [
        {
          "output_type": "execute_result",
          "data": {
            "text/plain": [
              "array([-1.,  1.,  2.])"
            ]
          },
          "metadata": {
            "tags": []
          },
          "execution_count": 5
        }
      ]
    },
    {
      "cell_type": "code",
      "metadata": {
        "id": "l6FvR6wLHMFf",
        "colab": {
          "base_uri": "https://localhost:8080/"
        },
        "outputId": "d37e087e-1239-4898-9b46-024ecac7250a"
      },
      "source": [
        "y = x > 0\n",
        "y"
      ],
      "execution_count": null,
      "outputs": [
        {
          "output_type": "execute_result",
          "data": {
            "text/plain": [
              "array([False,  True,  True])"
            ]
          },
          "metadata": {
            "tags": []
          },
          "execution_count": 6
        }
      ]
    },
    {
      "cell_type": "code",
      "metadata": {
        "id": "ewLFLnRpHUSq",
        "colab": {
          "base_uri": "https://localhost:8080/"
        },
        "outputId": "a1044a95-8c41-4f84-fdee-7105180d9aa0"
      },
      "source": [
        "y = y.astype(np.int)\n",
        "y"
      ],
      "execution_count": null,
      "outputs": [
        {
          "output_type": "execute_result",
          "data": {
            "text/plain": [
              "array([0, 1, 1])"
            ]
          },
          "metadata": {
            "tags": []
          },
          "execution_count": 7
        }
      ]
    },
    {
      "cell_type": "markdown",
      "metadata": {
        "id": "iK6Rh_OCFNSE"
      },
      "source": [
        "## 3.2.3 Step Function Graph"
      ]
    },
    {
      "cell_type": "code",
      "metadata": {
        "id": "W9SkHLNVHUXs",
        "colab": {
          "base_uri": "https://localhost:8080/",
          "height": 265
        },
        "outputId": "eb2f2db4-21ad-41f8-a00b-8b37e9dc719f"
      },
      "source": [
        "import matplotlib.pyplot as plt\n",
        "\n",
        "def step_function(x):\n",
        "    return np.array(x > 0, dtype=np.int)\n",
        "\n",
        "x = np.arange(-5.0, 5.0, 0.1)\n",
        "y = step_function(x)\n",
        "plt.plot(x, y)\n",
        "plt.ylim(-0.1, 1.1)  # y축 범위 지정\n",
        "plt.show()"
      ],
      "execution_count": null,
      "outputs": [
        {
          "output_type": "display_data",
          "data": {
            "image/png": "[encoded data removed]",
            "text/plain": [
              "<Figure size 432x288 with 1 Axes>"
            ]
          },
          "metadata": {
            "tags": [],
            "needs_background": "light"
          }
        }
      ]
    },
    {
      "cell_type": "markdown",
      "metadata": {
        "id": "3SWkZoiiFNOl"
      },
      "source": [
        "## 3.2.4 Implementing Sigmoid Function"
      ]
    },
    {
      "cell_type": "code",
      "metadata": {
        "id": "ZTskzATcClXg"
      },
      "source": [
        "def sigmoid(x):\n",
        "    return 1 / (1 + np.exp(-x))"
      ],
      "execution_count": null,
      "outputs": []
    },
    {
      "cell_type": "code",
      "metadata": {
        "id": "0DhJGx7GLyjl",
        "colab": {
          "base_uri": "https://localhost:8080/"
        },
        "outputId": "8c671f51-59ac-4afe-b1a1-6f8b6c6c8b2d"
      },
      "source": [
        "x = np.array([-1.0, 1.0, 2.0])\n",
        "sigmoid(x)"
      ],
      "execution_count": null,
      "outputs": [
        {
          "output_type": "execute_result",
          "data": {
            "text/plain": [
              "array([0.26894142, 0.73105858, 0.88079708])"
            ]
          },
          "metadata": {
            "tags": []
          },
          "execution_count": 10
        }
      ]
    },
    {
      "cell_type": "code",
      "metadata": {
        "id": "SsYJQWOPLynV",
        "colab": {
          "base_uri": "https://localhost:8080/"
        },
        "outputId": "193296cd-9d53-47a5-b85e-4bd38006a37c"
      },
      "source": [
        "t = np.array([1.0, 2.0, 3.0])\n",
        "1.0 + t"
      ],
      "execution_count": null,
      "outputs": [
        {
          "output_type": "execute_result",
          "data": {
            "text/plain": [
              "array([2., 3., 4.])"
            ]
          },
          "metadata": {
            "tags": []
          },
          "execution_count": 11
        }
      ]
    },
    {
      "cell_type": "code",
      "metadata": {
        "id": "Awi1gjJDLyqQ",
        "colab": {
          "base_uri": "https://localhost:8080/"
        },
        "outputId": "a256b6b0-6154-4033-cc8f-89f999a4d024"
      },
      "source": [
        "1.0 / t"
      ],
      "execution_count": null,
      "outputs": [
        {
          "output_type": "execute_result",
          "data": {
            "text/plain": [
              "array([1.        , 0.5       , 0.33333333])"
            ]
          },
          "metadata": {
            "tags": []
          },
          "execution_count": 12
        }
      ]
    },
    {
      "cell_type": "code",
      "metadata": {
        "id": "ABoitaC2MNUG",
        "colab": {
          "base_uri": "https://localhost:8080/",
          "height": 265
        },
        "outputId": "03623c61-5d37-49dc-9260-1d5f3d9e3017"
      },
      "source": [
        "x = np.arange(-5.0, 5.0, 0.1)\n",
        "y = sigmoid(x)\n",
        "plt.plot(x, y)\n",
        "plt.ylim(-0.1, 1.1)  # y축 범위 지정\n",
        "plt.show()"
      ],
      "execution_count": null,
      "outputs": [
        {
          "output_type": "display_data",
          "data": {
            "image/png": "[encoded data removed]",
            "text/plain": [
              "<Figure size 432x288 with 1 Axes>"
            ]
          },
          "metadata": {
            "tags": [],
            "needs_background": "light"
          }
        }
      ]
    },
    {
      "cell_type": "markdown",
      "metadata": {
        "id": "QbhiqAFfUty_"
      },
      "source": [
        "# 3.3 Multidimensional array calculation"
      ]
    },
    {
      "cell_type": "markdown",
      "metadata": {
        "id": "iK2oQIcEUt-P"
      },
      "source": [
        "## 3.3.1 Multidimension"
      ]
    },
    {
      "cell_type": "code",
      "metadata": {
        "id": "wzxR0xjNUsXI",
        "colab": {
          "base_uri": "https://localhost:8080/"
        },
        "outputId": "bd154662-7647-486c-d787-feaceb349a34"
      },
      "source": [
        "A = np.array([1,2,3,4])\n",
        "print(A)"
      ],
      "execution_count": null,
      "outputs": [
        {
          "output_type": "stream",
          "text": [
            "[1 2 3 4]\n"
          ],
          "name": "stdout"
        }
      ]
    },
    {
      "cell_type": "code",
      "metadata": {
        "id": "U_ckXAv1UswD",
        "colab": {
          "base_uri": "https://localhost:8080/"
        },
        "outputId": "b08d830f-dcf0-44e1-9e36-20ec1e7c2d46"
      },
      "source": [
        "np.ndim(A)"
      ],
      "execution_count": null,
      "outputs": [
        {
          "output_type": "execute_result",
          "data": {
            "text/plain": [
              "1"
            ]
          },
          "metadata": {
            "tags": []
          },
          "execution_count": 80
        }
      ]
    },
    {
      "cell_type": "code",
      "metadata": {
        "id": "fP8eiON6Vhr6",
        "colab": {
          "base_uri": "https://localhost:8080/"
        },
        "outputId": "768fb1b1-fee1-46b0-b019-4800e309a102"
      },
      "source": [
        "A.shape"
      ],
      "execution_count": null,
      "outputs": [
        {
          "output_type": "execute_result",
          "data": {
            "text/plain": [
              "(4,)"
            ]
          },
          "metadata": {
            "tags": []
          },
          "execution_count": 81
        }
      ]
    },
    {
      "cell_type": "code",
      "metadata": {
        "id": "MK_v5JVdVh3N",
        "colab": {
          "base_uri": "https://localhost:8080/"
        },
        "outputId": "e2004779-1d5d-4249-a013-fce643123d32"
      },
      "source": [
        "A.shape[0]"
      ],
      "execution_count": null,
      "outputs": [
        {
          "output_type": "execute_result",
          "data": {
            "text/plain": [
              "4"
            ]
          },
          "metadata": {
            "tags": []
          },
          "execution_count": 82
        }
      ]
    },
    {
      "cell_type": "code",
      "metadata": {
        "id": "Bmib5jr-Vh_g",
        "colab": {
          "base_uri": "https://localhost:8080/"
        },
        "outputId": "b998241c-1f07-450e-c028-30f1c2c2949c"
      },
      "source": [
        "B = np.array([[1,2], [3,4], [5,6]])\n",
        "print(B)"
      ],
      "execution_count": null,
      "outputs": [
        {
          "output_type": "stream",
          "text": [
            "[[1 2]\n",
            " [3 4]\n",
            " [5 6]]\n"
          ],
          "name": "stdout"
        }
      ]
    },
    {
      "cell_type": "code",
      "metadata": {
        "id": "0Vu6mBypVh8S",
        "colab": {
          "base_uri": "https://localhost:8080/"
        },
        "outputId": "d7635e7b-1ae7-4070-d51b-109e4ec9c46a"
      },
      "source": [
        "np.ndim(B)"
      ],
      "execution_count": null,
      "outputs": [
        {
          "output_type": "execute_result",
          "data": {
            "text/plain": [
              "2"
            ]
          },
          "metadata": {
            "tags": []
          },
          "execution_count": 84
        }
      ]
    },
    {
      "cell_type": "code",
      "metadata": {
        "id": "HAgix68lWM2w",
        "colab": {
          "base_uri": "https://localhost:8080/"
        },
        "outputId": "4fc6705b-ee45-4ba0-8045-a20396324264"
      },
      "source": [
        "B.shape"
      ],
      "execution_count": null,
      "outputs": [
        {
          "output_type": "execute_result",
          "data": {
            "text/plain": [
              "(3, 2)"
            ]
          },
          "metadata": {
            "tags": []
          },
          "execution_count": 85
        }
      ]
    },
    {
      "cell_type": "markdown",
      "metadata": {
        "id": "OS7_JubwWTVz"
      },
      "source": [
        "## 3.3.2 Matrix Product"
      ]
    },
    {
      "cell_type": "code",
      "metadata": {
        "id": "YxPe1c2DWNNK",
        "colab": {
          "base_uri": "https://localhost:8080/"
        },
        "outputId": "7f4a1d8d-bb33-4de4-fff3-c73e4b30f4c4"
      },
      "source": [
        "A = np.array([[1,2], [3,4]])\n",
        "A.shape"
      ],
      "execution_count": null,
      "outputs": [
        {
          "output_type": "execute_result",
          "data": {
            "text/plain": [
              "(2, 2)"
            ]
          },
          "metadata": {
            "tags": []
          },
          "execution_count": 25
        }
      ]
    },
    {
      "cell_type": "code",
      "metadata": {
        "id": "eXOb_zvjWNX0",
        "colab": {
          "base_uri": "https://localhost:8080/"
        },
        "outputId": "fe2670f4-eb7b-4df8-9236-10a59e2c9b2f"
      },
      "source": [
        "B = np.array([[5,6], [7,8]])\n",
        "B.shape"
      ],
      "execution_count": null,
      "outputs": [
        {
          "output_type": "execute_result",
          "data": {
            "text/plain": [
              "(2, 2)"
            ]
          },
          "metadata": {
            "tags": []
          },
          "execution_count": 26
        }
      ]
    },
    {
      "cell_type": "code",
      "metadata": {
        "id": "tcW9-R-DWNTy",
        "colab": {
          "base_uri": "https://localhost:8080/"
        },
        "outputId": "9bde9692-5e80-4d4f-b62b-fd0465af5f1f"
      },
      "source": [
        "np.dot(A, B)"
      ],
      "execution_count": null,
      "outputs": [
        {
          "output_type": "execute_result",
          "data": {
            "text/plain": [
              "array([[19, 22],\n",
              "       [43, 50]])"
            ]
          },
          "metadata": {
            "tags": []
          },
          "execution_count": 27
        }
      ]
    },
    {
      "cell_type": "code",
      "metadata": {
        "id": "VcPbGIvFWNRl",
        "colab": {
          "base_uri": "https://localhost:8080/"
        },
        "outputId": "27f6e09f-2c91-4301-8e97-bef260976b91"
      },
      "source": [
        "A = np.array([[1,2], [3,4], [5,6]])\n",
        "A.shape"
      ],
      "execution_count": null,
      "outputs": [
        {
          "output_type": "execute_result",
          "data": {
            "text/plain": [
              "(3, 2)"
            ]
          },
          "metadata": {
            "tags": []
          },
          "execution_count": 28
        }
      ]
    },
    {
      "cell_type": "code",
      "metadata": {
        "id": "MwJkyEKHdT_V",
        "colab": {
          "base_uri": "https://localhost:8080/"
        },
        "outputId": "21a1374e-aa94-4bc2-b961-d783e07c2bfc"
      },
      "source": [
        "B = np.array([7,8])\n",
        "B.shape"
      ],
      "execution_count": null,
      "outputs": [
        {
          "output_type": "execute_result",
          "data": {
            "text/plain": [
              "(2,)"
            ]
          },
          "metadata": {
            "tags": []
          },
          "execution_count": 29
        }
      ]
    },
    {
      "cell_type": "code",
      "metadata": {
        "id": "uJT9YWJmdUCt",
        "colab": {
          "base_uri": "https://localhost:8080/"
        },
        "outputId": "eab520a9-e18f-4c19-b33d-b9defe23beb4"
      },
      "source": [
        "np.dot(A, B)"
      ],
      "execution_count": null,
      "outputs": [
        {
          "output_type": "execute_result",
          "data": {
            "text/plain": [
              "array([23, 53, 83])"
            ]
          },
          "metadata": {
            "tags": []
          },
          "execution_count": 30
        }
      ]
    },
    {
      "cell_type": "markdown",
      "metadata": {
        "id": "DqwRqtU8deAe"
      },
      "source": [
        "## 3.3.3 Matrix Product in Neural Network"
      ]
    },
    {
      "cell_type": "code",
      "metadata": {
        "id": "Mpdu2JQ7dT9U",
        "colab": {
          "base_uri": "https://localhost:8080/"
        },
        "outputId": "64d46210-8a00-498a-df53-25ed1a9ad040"
      },
      "source": [
        "X = np.array([1, 2])\n",
        "X.shape"
      ],
      "execution_count": null,
      "outputs": [
        {
          "output_type": "execute_result",
          "data": {
            "text/plain": [
              "(2,)"
            ]
          },
          "metadata": {
            "tags": []
          },
          "execution_count": 31
        }
      ]
    },
    {
      "cell_type": "code",
      "metadata": {
        "id": "Ig93b1OFdT7X",
        "colab": {
          "base_uri": "https://localhost:8080/"
        },
        "outputId": "5c1b6cc0-d994-4403-a41f-4f521e15a46b"
      },
      "source": [
        "W = np.array([[1, 3, 5], [2, 4, 6]])\n",
        "print(W)"
      ],
      "execution_count": null,
      "outputs": [
        {
          "output_type": "stream",
          "text": [
            "[[1 3 5]\n",
            " [2 4 6]]\n"
          ],
          "name": "stdout"
        }
      ]
    },
    {
      "cell_type": "code",
      "metadata": {
        "id": "DXc2EJfIdT1X",
        "colab": {
          "base_uri": "https://localhost:8080/"
        },
        "outputId": "e9f0f07f-7ddc-45cf-fc85-045132c18841"
      },
      "source": [
        "W.shape"
      ],
      "execution_count": null,
      "outputs": [
        {
          "output_type": "execute_result",
          "data": {
            "text/plain": [
              "(2, 3)"
            ]
          },
          "metadata": {
            "tags": []
          },
          "execution_count": 33
        }
      ]
    },
    {
      "cell_type": "code",
      "metadata": {
        "id": "6-G3RGBTdvXW",
        "colab": {
          "base_uri": "https://localhost:8080/"
        },
        "outputId": "4561fe1e-9420-4abe-c03c-77b0d6b58736"
      },
      "source": [
        "Y = np.dot(X, W)\n",
        "print(Y)"
      ],
      "execution_count": null,
      "outputs": [
        {
          "output_type": "stream",
          "text": [
            "[ 5 11 17]\n"
          ],
          "name": "stdout"
        }
      ]
    },
    {
      "cell_type": "markdown",
      "metadata": {
        "id": "Utbs3M6peUFa"
      },
      "source": [
        "#3.4 Implementing a 3-layer Neural Network"
      ]
    },
    {
      "cell_type": "markdown",
      "metadata": {
        "id": "9FHQxvxyeUPS"
      },
      "source": [
        "## 3.4.1 Notation Explanation"
      ]
    },
    {
      "cell_type": "markdown",
      "metadata": {
        "id": "di4wB9mYfPhl"
      },
      "source": [
        "## 3.4.2 Implementing Signal Transfer on each layer"
      ]
    },
    {
      "cell_type": "code",
      "metadata": {
        "id": "QcTmc-refl_f",
        "colab": {
          "base_uri": "https://localhost:8080/"
        },
        "outputId": "96e2ea76-69a3-4f1b-bc4c-632429155486"
      },
      "source": [
        "X = np.array([1.0, 0.5])\n",
        "W1 = np.array([[0.1, 0.3, 0.5], [0.2, 0.4, 0.6]])\n",
        "B1 = np.array([0.1, 0.2, 0.3])\n",
        "\n",
        "print(W1.shape)\n",
        "print(X.shape)\n",
        "print(B1.shape)\n",
        "\n",
        "A1 = np.dot(X, W1) + B1"
      ],
      "execution_count": null,
      "outputs": [
        {
          "output_type": "stream",
          "text": [
            "(2, 3)\n",
            "(2,)\n",
            "(3,)\n"
          ],
          "name": "stdout"
        }
      ]
    },
    {
      "cell_type": "code",
      "metadata": {
        "id": "WV8UmpmigFmm",
        "colab": {
          "base_uri": "https://localhost:8080/"
        },
        "outputId": "8d334ed5-7489-4278-8586-3c7091253749"
      },
      "source": [
        "Z1 = sigmoid(A1)\n",
        "\n",
        "print(A1)\n",
        "print(Z1)"
      ],
      "execution_count": null,
      "outputs": [
        {
          "output_type": "stream",
          "text": [
            "[0.3 0.7 1.1]\n",
            "[0.57444252 0.66818777 0.75026011]\n"
          ],
          "name": "stdout"
        }
      ]
    },
    {
      "cell_type": "code",
      "metadata": {
        "id": "en444D61gvOV",
        "colab": {
          "base_uri": "https://localhost:8080/"
        },
        "outputId": "cf3b8a7f-fdbb-4acd-a605-9ac91883ac76"
      },
      "source": [
        "W2 = np.array([[0.1, 0.4], [0.2, 0.5], [0.3, 0.6]])\n",
        "B2 = np.array([0.1, 0.2])\n",
        "\n",
        "print(Z1.shape)\n",
        "print(W2.shape)\n",
        "print(B2.shape)\n",
        "\n",
        "A2 = np.dot(Z1, W2) + B2\n",
        "Z2 = sigmoid(A2)"
      ],
      "execution_count": null,
      "outputs": [
        {
          "output_type": "stream",
          "text": [
            "(3,)\n",
            "(3, 2)\n",
            "(2,)\n"
          ],
          "name": "stdout"
        }
      ]
    },
    {
      "cell_type": "code",
      "metadata": {
        "id": "E3iCHDNThvHF",
        "colab": {
          "base_uri": "https://localhost:8080/"
        },
        "outputId": "037bdc01-c5fa-467f-f1dc-7487bd06245c"
      },
      "source": [
        "def identify_function(x):\n",
        "    return x\n",
        "\n",
        "W3 = np.array([[0.1, 0.3], [0.2, 0.4]])\n",
        "B3 = np.array([0.1, 0.2])\n",
        "\n",
        "A3 = np.dot(Z2, W3) + B3\n",
        "Y = identify_function(A3)\n",
        "print(A3)\n",
        "print(Y)"
      ],
      "execution_count": null,
      "outputs": [
        {
          "output_type": "stream",
          "text": [
            "[0.31682708 0.69627909]\n",
            "[0.31682708 0.69627909]\n"
          ],
          "name": "stdout"
        }
      ]
    },
    {
      "cell_type": "markdown",
      "metadata": {
        "id": "p7UHov2OfP4f"
      },
      "source": [
        "## 3.4.3 Implementation Arrange"
      ]
    },
    {
      "cell_type": "code",
      "metadata": {
        "id": "zBU_jIzueg63",
        "colab": {
          "base_uri": "https://localhost:8080/"
        },
        "outputId": "20ae1d24-008b-4867-8929-19e1c8b5d3c6"
      },
      "source": [
        "def init_network():\n",
        "    network = {}\n",
        "    network['W1'] = np.array([[0.1, 0.3, 0.5], [0.2, 0.4, 0.6]])\n",
        "    network['b1'] = np.array([0.1, 0.2, 0.3])\n",
        "    network['W2'] = np.array([[0.1, 0.4], [0.2, 0.5], [0.3, 0.6]])\n",
        "    network['b2'] = np.array([0.1, 0.2])\n",
        "    network['W3'] = np.array([[0.1, 0.3], [0.2, 0.4]])\n",
        "    network['b3'] = np.array([0.1, 0.2])\n",
        "\n",
        "    return network\n",
        "\n",
        "def forward(network, x):\n",
        "    W1, W2, W3 = network['W1'], network['W2'], network['W3']\n",
        "    b1, b2, b3 = network['b1'], network['b2'], network['b3']\n",
        "\n",
        "    a1 = np.dot(x, W1) + b1\n",
        "    z1 = sigmoid(a1)\n",
        "    a2 = np.dot(z1, W2) + b2\n",
        "    z2 = sigmoid(a2)\n",
        "    a3 = np.dot(z2, W3) + b3\n",
        "    y = identify_function(a3)\n",
        "\n",
        "    return y\n",
        "\n",
        "network = init_network()\n",
        "x = np.array([1.0, 0.5])\n",
        "y = forward(network, x)\n",
        "print(y)"
      ],
      "execution_count": null,
      "outputs": [
        {
          "output_type": "stream",
          "text": [
            "[0.31682708 0.69627909]\n"
          ],
          "name": "stdout"
        }
      ]
    },
    {
      "cell_type": "markdown",
      "metadata": {
        "id": "f1_Kn4WOmcO_"
      },
      "source": [
        "#3.5 Design the Output Layer"
      ]
    },
    {
      "cell_type": "markdown",
      "metadata": {
        "id": "16y_gT-FmcL8"
      },
      "source": [
        "## 3.5.1 Implementing Identity Function and Softmax Function"
      ]
    },
    {
      "cell_type": "code",
      "metadata": {
        "id": "wvpyHfOemf5H",
        "colab": {
          "base_uri": "https://localhost:8080/"
        },
        "outputId": "49a90f1b-32c4-450d-eb3b-b2e4cab476f6"
      },
      "source": [
        "a = np.array([0.3, 2.9, 4.0])\n",
        "exp_a = np.exp(a)\n",
        "print(exp_a)"
      ],
      "execution_count": null,
      "outputs": [
        {
          "output_type": "stream",
          "text": [
            "[ 1.34985881 18.17414537 54.59815003]\n"
          ],
          "name": "stdout"
        }
      ]
    },
    {
      "cell_type": "code",
      "metadata": {
        "id": "1nDKTts0nXyE",
        "colab": {
          "base_uri": "https://localhost:8080/"
        },
        "outputId": "7a0b8e11-9c2b-4367-80f4-9720605a7b7e"
      },
      "source": [
        "sum_exp_a = np.sum(exp_a)\n",
        "print(sum_exp_a)"
      ],
      "execution_count": null,
      "outputs": [
        {
          "output_type": "stream",
          "text": [
            "74.1221542101633\n"
          ],
          "name": "stdout"
        }
      ]
    },
    {
      "cell_type": "code",
      "metadata": {
        "id": "mTw5w9POnX32",
        "colab": {
          "base_uri": "https://localhost:8080/"
        },
        "outputId": "f49026f7-e332-46c8-861f-c6d4c1182b3b"
      },
      "source": [
        "y = exp_a / sum_exp_a\n",
        "print(y)"
      ],
      "execution_count": null,
      "outputs": [
        {
          "output_type": "stream",
          "text": [
            "[0.01821127 0.24519181 0.73659691]\n"
          ],
          "name": "stdout"
        }
      ]
    },
    {
      "cell_type": "code",
      "metadata": {
        "id": "nKbFVjf2nX8N"
      },
      "source": [
        "def softmax(a):\n",
        "    exp_a = np.exp(a)\n",
        "    sum_exp_a = np.sum(exp_a)\n",
        "    y = exp_a / sum_exp_a\n",
        "    \n",
        "    return y"
      ],
      "execution_count": null,
      "outputs": []
    },
    {
      "cell_type": "markdown",
      "metadata": {
        "id": "biSHrK7dmcHQ"
      },
      "source": [
        "## 3.5.2 Cautions for Implementing Softmax Function"
      ]
    },
    {
      "cell_type": "code",
      "metadata": {
        "id": "H93t8En1oMlG"
      },
      "source": [
        "def softmax(a):\n",
        "    c = np.max(a)\n",
        "    exp_a = np.exp(a - c)\n",
        "    sum_exp_a = np.sum(exp_a)\n",
        "    y = exp_a / sum_exp_a\n",
        "    \n",
        "    return y"
      ],
      "execution_count": null,
      "outputs": []
    },
    {
      "cell_type": "markdown",
      "metadata": {
        "id": "2xwqduVaEepD"
      },
      "source": [
        "## 3.5.3 Features of the Softmax Function"
      ]
    },
    {
      "cell_type": "code",
      "metadata": {
        "id": "ycywbMNndvpy",
        "colab": {
          "base_uri": "https://localhost:8080/"
        },
        "outputId": "537129bd-0457-4859-c65b-884e4efe4b45"
      },
      "source": [
        "a = np.array([0.3, 2.9, 4.0])\n",
        "y = softmax(a)\n",
        "print(y)"
      ],
      "execution_count": null,
      "outputs": [
        {
          "output_type": "stream",
          "text": [
            "[0.01821127 0.24519181 0.73659691]\n"
          ],
          "name": "stdout"
        }
      ]
    },
    {
      "cell_type": "code",
      "metadata": {
        "id": "29Q_FUmfdvvi",
        "colab": {
          "base_uri": "https://localhost:8080/"
        },
        "outputId": "9315c455-feaa-4f4e-be86-0503d54d903a"
      },
      "source": [
        "np.sum(y)"
      ],
      "execution_count": null,
      "outputs": [
        {
          "output_type": "execute_result",
          "data": {
            "text/plain": [
              "1.0"
            ]
          },
          "metadata": {
            "tags": []
          },
          "execution_count": 51
        }
      ]
    },
    {
      "cell_type": "markdown",
      "metadata": {
        "id": "Z_Zg56Ckozue"
      },
      "source": [
        "## 3.5.6 Determining the Number of neurons in the Output Layer"
      ]
    },
    {
      "cell_type": "markdown",
      "metadata": {
        "id": "H5i1RU3go481"
      },
      "source": [
        "# 3.6 Handwriting number recognition"
      ]
    },
    {
      "cell_type": "markdown",
      "metadata": {
        "id": "AhATWJJxo5SC"
      },
      "source": [
        "## 3.6.1 MNIST Dataset"
      ]
    },
    {
      "cell_type": "code",
      "metadata": {
        "id": "G1ZC-gNkpWgr",
        "colab": {
          "base_uri": "https://localhost:8080/"
        },
        "outputId": "3b4ee80f-472d-46c8-fe08-b6d94a31712b"
      },
      "source": [
        "%cd /content/deep-learning-from-scratch/ch03"
      ],
      "execution_count": null,
      "outputs": [
        {
          "output_type": "stream",
          "text": [
            "/content/deep-learning-from-scratch/ch03\n"
          ],
          "name": "stdout"
        }
      ]
    },
    {
      "cell_type": "code",
      "metadata": {
        "id": "-jqG5JUfpKZg",
        "colab": {
          "base_uri": "https://localhost:8080/"
        },
        "outputId": "05b6348f-ad78-43b2-9f5c-42e513cfad7b"
      },
      "source": [
        "import sys, os\n",
        "sys.path.append(os.pardir)\n",
        "from dataset.mnist import load_mnist\n",
        "\n",
        "(x_train, t_train), (x_test, t_test) = load_mnist(flatten=True, normalize=False)\n",
        "\n",
        "print(x_train.shape)\n",
        "print(t_train.shape)\n",
        "print(x_test.shape)\n",
        "print(t_test.shape)"
      ],
      "execution_count": null,
      "outputs": [
        {
          "output_type": "stream",
          "text": [
            "Converting train-images-idx3-ubyte.gz to NumPy Array ...\n",
            "Done\n",
            "Converting train-labels-idx1-ubyte.gz to NumPy Array ...\n",
            "Done\n",
            "Converting t10k-images-idx3-ubyte.gz to NumPy Array ...\n",
            "Done\n",
            "Converting t10k-labels-idx1-ubyte.gz to NumPy Array ...\n",
            "Done\n",
            "Creating pickle file ...\n",
            "Done!\n",
            "(60000, 784)\n",
            "(60000,)\n",
            "(10000, 784)\n",
            "(10000,)\n"
          ],
          "name": "stdout"
        }
      ]
    },
    {
      "cell_type": "code",
      "metadata": {
        "id": "E2UJ2KXapKr2",
        "colab": {
          "base_uri": "https://localhost:8080/"
        },
        "outputId": "dd821545-c587-4337-e730-10cb0d9d7ef2"
      },
      "source": [
        "import sys, os\n",
        "sys.path.append(os.pardir)  # 부모 디렉터리의 파일을 가져올 수 있도록 설정\n",
        "import numpy as np\n",
        "from dataset.mnist import load_mnist\n",
        "from PIL import Image\n",
        "\n",
        "def img_show(img):\n",
        "    pil_img = Image.fromarray(np.uint8(img))\n",
        "    pil_img.show()\n",
        "\n",
        "(x_train, t_train), (x_test, t_test) = load_mnist(flatten=True, normalize=False)\n",
        "\n",
        "img = x_train[0]\n",
        "label = t_train[0]\n",
        "# print(img)\n",
        "print(label)\n",
        "\n",
        "print(img.shape)\n",
        "img = img.reshape(28, 28)\n",
        "print(img.shape)\n",
        "\n",
        "img_show(img)"
      ],
      "execution_count": null,
      "outputs": [
        {
          "output_type": "stream",
          "text": [
            "5\n",
            "(784,)\n",
            "(28, 28)\n"
          ],
          "name": "stdout"
        }
      ]
    },
    {
      "cell_type": "code",
      "metadata": {
        "id": "YBx5oGgwpKpS",
        "colab": {
          "base_uri": "https://localhost:8080/"
        },
        "outputId": "12cbbb03-9c86-4b84-e9ad-cfbcedbd750c"
      },
      "source": [
        "import pickle\n",
        "\n",
        "def get_data():\n",
        "    (x_train, t_train), (x_test, t_test) = load_mnist(normalize=True, flatten=True, one_hot_label=False)\n",
        "    return x_test, t_test\n",
        "\n",
        "def init_network():\n",
        "    with open(\"sample_weight.pkl\", 'rb') as f:\n",
        "        network = pickle.load(f)\n",
        "    return network\n",
        "\n",
        "def predict(network, x):\n",
        "    W1, W2, W3 = network['W1'], network['W2'], network['W3']\n",
        "    b1, b2, b3 = network['b1'], network['b2'], network['b3']\n",
        "\n",
        "    a1 = np.dot(x, W1) + b1\n",
        "    z1 = sigmoid(a1)\n",
        "    a2 = np.dot(z1, W2) + b2\n",
        "    z2 = sigmoid(a2)\n",
        "    a3 = np.dot(z2, W3) + b3\n",
        "    y = softmax(a3)\n",
        "\n",
        "    return y\n",
        "\n",
        "x, t = get_data()\n",
        "network = init_network()\n",
        "accuracy_cnt = 0\n",
        "for i in range(len(x)):\n",
        "    y = predict(network, x[i])\n",
        "    p = np.argmax(y)\n",
        "    if p == t[i]:\n",
        "        accuracy_cnt += 1\n",
        "\n",
        "print(\"Accuracy:\" + str(float(accuracy_cnt) / len(x)))"
      ],
      "execution_count": null,
      "outputs": [
        {
          "output_type": "stream",
          "text": [
            "Accuracy:0.9352\n"
          ],
          "name": "stdout"
        }
      ]
    },
    {
      "cell_type": "markdown",
      "metadata": {
        "id": "O4_Vb34Go5Jz"
      },
      "source": [
        "## 3.6.3 Batch Processing"
      ]
    },
    {
      "cell_type": "code",
      "metadata": {
        "id": "0gBJ0yG_dvzy",
        "colab": {
          "base_uri": "https://localhost:8080/"
        },
        "outputId": "de5a4223-d91b-42d4-d8a3-df32238d98a5"
      },
      "source": [
        "x, _ = get_data()\n",
        "network = init_network()\n",
        "W1, W2, W3 = network['W1'], network['W2'], network['W3']\n",
        "\n",
        "print(x.shape)\n",
        "print(x[0].shape)\n",
        "print(W1.shape)\n",
        "print(W2.shape)\n",
        "print(W3.shape)"
      ],
      "execution_count": null,
      "outputs": [
        {
          "output_type": "stream",
          "text": [
            "(10000, 784)\n",
            "(784,)\n",
            "(784, 50)\n",
            "(50, 100)\n",
            "(100, 10)\n"
          ],
          "name": "stdout"
        }
      ]
    },
    {
      "cell_type": "code",
      "metadata": {
        "id": "gQTsxu9eyFlE",
        "colab": {
          "base_uri": "https://localhost:8080/"
        },
        "outputId": "0eeb8f8b-8e10-4e09-d463-360a6e1421e4"
      },
      "source": [
        "x, t = get_data()\n",
        "network = init_network()\n",
        "\n",
        "batch_size = 100 # 배치 크기\n",
        "accuracy_cnt = 0\n",
        "\n",
        "for i in range(0, len(x), batch_size):\n",
        "    x_batch = x[i:i+batch_size]\n",
        "    y_batch = predict(network, x_batch)\n",
        "    p = np.argmax(y_batch, axis=1)\n",
        "    accuracy_cnt += np.sum(p == t[i:i+batch_size])\n",
        "\n",
        "print(\"Accuracy:\" + str(float(accuracy_cnt) / len(x)))"
      ],
      "execution_count": null,
      "outputs": [
        {
          "output_type": "stream",
          "text": [
            "Accuracy:0.9352\n"
          ],
          "name": "stdout"
        }
      ]
    },
    {
      "cell_type": "markdown",
      "metadata": {
        "id": "qmbJljMazFs8"
      },
      "source": [
        "# 3.7 Arrangement"
      ]
    },
    {
      "cell_type": "code",
      "metadata": {
        "id": "4nI4BM5xyFzB"
      },
      "source": [
        ""
      ],
      "execution_count": null,
      "outputs": []
    },
    {
      "cell_type": "markdown",
      "metadata": {
        "id": "Cg54rofmzFfj"
      },
      "source": [
        ""
      ]
    },
    {
      "cell_type": "code",
      "metadata": {
        "id": "6U1E2V8EyF6l"
      },
      "source": [
        ""
      ],
      "execution_count": null,
      "outputs": []
    },
    {
      "cell_type": "code",
      "metadata": {
        "id": "3cSr41XPyF-Q"
      },
      "source": [
        ""
      ],
      "execution_count": null,
      "outputs": []
    },
    {
      "cell_type": "code",
      "metadata": {
        "id": "zdxOZtJ1yGCi"
      },
      "source": [
        ""
      ],
      "execution_count": null,
      "outputs": []
    },
    {
      "cell_type": "code",
      "metadata": {
        "id": "eqlk_HQdyGGN"
      },
      "source": [
        ""
      ],
      "execution_count": null,
      "outputs": []
    },
    {
      "cell_type": "code",
      "metadata": {
        "id": "hkgPeoytChke",
        "colab": {
          "base_uri": "https://localhost:8080/"
        },
        "outputId": "b52daad4-2836-4151-8b51-ed0674005079"
      },
      "source": [
        "%cd /content/deep-learning-from-scratch/ch03"
      ],
      "execution_count": null,
      "outputs": [
        {
          "output_type": "stream",
          "text": [
            "/content/deep-learning-from-scratch/ch03\n"
          ],
          "name": "stdout"
        }
      ]
    },
    {
      "cell_type": "code",
      "metadata": {
        "id": "vF9mrFShI8JQ",
        "colab": {
          "base_uri": "https://localhost:8080/"
        },
        "outputId": "15b92b46-c5ad-4f31-9f9b-889367a04c02"
      },
      "source": [
        "%ls"
      ],
      "execution_count": null,
      "outputs": [
        {
          "output_type": "stream",
          "text": [
            "mnist_show.py             README.md          sigmoid.py\n",
            "neuralnet_mnist_batch.py  relu.py            sig_step_compare.py\n",
            "neuralnet_mnist.py        sample_weight.pkl  step_function.py\n"
          ],
          "name": "stdout"
        }
      ]
    },
    {
      "cell_type": "code",
      "metadata": {
        "id": "Y81UC4x-I6Xr",
        "colab": {
          "base_uri": "https://localhost:8080/"
        },
        "outputId": "eb8e8301-9328-4902-9d3c-916a5888fd42"
      },
      "source": [
        "!pwd"
      ],
      "execution_count": null,
      "outputs": [
        {
          "output_type": "stream",
          "text": [
            "/content/deep-learning-from-scratch/ch03\n"
          ],
          "name": "stdout"
        }
      ]
    },
    {
      "cell_type": "code",
      "metadata": {
        "id": "fLodOe_thuML"
      },
      "source": [
        ""
      ],
      "execution_count": null,
      "outputs": []
    }
  ]
}